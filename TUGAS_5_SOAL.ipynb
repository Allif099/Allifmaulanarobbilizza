{
  "nbformat": 4,
  "nbformat_minor": 0,
  "metadata": {
    "colab": {
      "provenance": [],
      "authorship_tag": "ABX9TyM7vBy8J8H7gUhzDEMrpsIr",
      "include_colab_link": true
    },
    "kernelspec": {
      "name": "python3",
      "display_name": "Python 3"
    },
    "language_info": {
      "name": "python"
    }
  },
  "cells": [
    {
      "cell_type": "markdown",
      "metadata": {
        "id": "view-in-github",
        "colab_type": "text"
      },
      "source": [
        "<a href=\"https://colab.research.google.com/github/Allif099/Allifmaulanarobbilizza/blob/main/TUGAS_5_SOAL.ipynb\" target=\"_parent\"><img src=\"https://colab.research.google.com/assets/colab-badge.svg\" alt=\"Open In Colab\"/></a>"
      ]
    },
    {
      "cell_type": "code",
      "execution_count": null,
      "metadata": {
        "id": "VJ9Bu21fiRuu"
      },
      "outputs": [],
      "source": []
    },
    {
      "cell_type": "code",
      "source": [
        "diskon = int (input(\"jumlah pembelian \"))\n",
        "if diskon <= 100.000 :\n",
        "  print (\"tidak mendapat diskon\") #true\n",
        "elif diskon <= 500.000 :\n",
        " print (\"mendapat diskon 10%\") #true&false\n",
        "elif diskon >= 500.000 :\n",
        "  print (\"mendapat diskon 20%\") #false"
      ],
      "metadata": {
        "colab": {
          "base_uri": "https://localhost:8080/"
        },
        "id": "ziOn7hIPiTu4",
        "outputId": "567975b8-fe4f-43c0-fee8-c2aef31ec172"
      },
      "execution_count": null,
      "outputs": [
        {
          "output_type": "stream",
          "name": "stdout",
          "text": [
            "jumlah pembelian 200\n",
            "mendapat diskon 10%\n"
          ]
        }
      ]
    },
    {
      "cell_type": "code",
      "source": [
        "umur = int (input(\"umur anda\" ))\n",
        "if umur <= 12 :\n",
        "  print (\"anda masih anak-anak\") #true\n",
        "elif umur >= 12 :\n",
        "    print (\"anda masih remaja\") #true&false\n",
        "elif umur >= 17 :\n",
        "   print (\"anda sudah dewasa\") #true&false\n",
        "elif umur >= 64 :\n",
        "    print (\"anda sudah lansia\") #true"
      ],
      "metadata": {
        "colab": {
          "base_uri": "https://localhost:8080/"
        },
        "id": "S084mh0Jpz6B",
        "outputId": "73878882-3a8c-47ee-f94d-ca79dbf87d3c"
      },
      "execution_count": null,
      "outputs": [
        {
          "output_type": "stream",
          "name": "stdout",
          "text": [
            "umur anda15\n",
            "anda masih remaja\n"
          ]
        }
      ]
    },
    {
      "cell_type": "code",
      "source": [
        "nilai = int (input(\"nilai  anda \"))\n",
        "if nilai >= 90 :\n",
        "  print (\"sangat baik\") #True\n",
        "elif nilai <= 90 :\n",
        "  print (\"baik\") #true&false\n",
        "elif nilai <= 70 :\n",
        "    print (\"cukup\") #true&false\n",
        "elif nilai <= 50 :\n",
        "     print (\"kurang\") #true"
      ],
      "metadata": {
        "colab": {
          "base_uri": "https://localhost:8080/"
        },
        "id": "4SB0WFFQtXKx",
        "outputId": "a3bc4af9-e36d-4f85-e2e0-e3b01358139a"
      },
      "execution_count": null,
      "outputs": [
        {
          "output_type": "stream",
          "name": "stdout",
          "text": [
            "nilai  anda 70\n",
            "baik\n"
          ]
        }
      ]
    },
    {
      "cell_type": "code",
      "source": [
        " tahun = int (input(\"masukkan tahun \"))\n",
        "if tahun & 4 == 0 :\n",
        "  if tahun % 100 == 0 :\n",
        "    if tahun % 400 == 0 :\n",
        "      print (\"tahun kabisat\")\n",
        "    else :\n",
        "        print (\"bukan tahun kabisat\")\n",
        "  else :\n",
        "        print (\"tahun kabisat\")"
      ],
      "metadata": {
        "colab": {
          "base_uri": "https://localhost:8080/"
        },
        "id": "EV7ftNilvvqy",
        "outputId": "53f812a2-9a99-4eb6-d426-938eb237130a"
      },
      "execution_count": null,
      "outputs": [
        {
          "output_type": "stream",
          "name": "stdout",
          "text": [
            "masukkan tahun 26000\n",
            "tahun kabisat\n"
          ]
        }
      ]
    },
    {
      "cell_type": "code",
      "source": [
        "# Meminta input angka pertama\n",
        "angka1 = float(input(\"Masukkan angka pertama: \"))\n",
        "\n",
        "# Meminta input angka kedua\n",
        "angka2 = float(input(\"Masukkan angka kedua: \"))\n",
        "\n",
        "# Meminta input jenis operasi\n",
        "operasi = input(\"Pilih operasi (+, -, *, /): \")\n",
        "\n",
        "# Percabangan untuk menentukan operasi yang dipilih\n",
        "if operasi == \"+\":\n",
        "    hasil = angka1 + angka2\n",
        "elif operasi == \"-\":\n",
        "    hasil = angka1 - angka2\n",
        "elif operasi == \"*\":\n",
        "    hasil = angka1 * angka2\n",
        "elif operasi == \"/\":\n",
        "    if angka2 != 0:\n",
        "        hasil = angka1 / angka2\n",
        "    else:\n",
        "        hasil = \"Tidak dapat membagi dengan 0!\"\n",
        "else:\n",
        "    hasil = \"Operasi tidak valid!\"\n",
        "\n",
        "# Menampilkan hasil perhitungan\n",
        "print(f\"Hasil: {hasil}\")\n"
      ],
      "metadata": {
        "colab": {
          "base_uri": "https://localhost:8080/"
        },
        "id": "GvEslQ-_j3YW",
        "outputId": "edee30e2-d5c4-4e13-c2d0-70e250091e4f"
      },
      "execution_count": null,
      "outputs": [
        {
          "output_type": "stream",
          "name": "stdout",
          "text": [
            "Masukkan angka pertama: 17\n",
            "Masukkan angka kedua: 15\n",
            "Pilih operasi (+, -, *, /): +\n",
            "Hasil: 32.0\n"
          ]
        }
      ]
    }
  ]
}